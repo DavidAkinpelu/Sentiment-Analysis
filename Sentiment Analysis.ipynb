{
 "cells": [
  {
   "cell_type": "code",
   "execution_count": 1,
   "id": "answering-lunch",
   "metadata": {},
   "outputs": [],
   "source": [
    "import pandas as pd\n",
    "import numpy as np\n",
    "import matplotlib.pyplot as plt\n",
    "import nltk"
   ]
  },
  {
   "cell_type": "markdown",
   "id": "legitimate-oxford",
   "metadata": {},
   "source": [
    "## Rotten Tomatoes Review Datasets"
   ]
  },
  {
   "cell_type": "code",
   "execution_count": 2,
   "id": "extraordinary-running",
   "metadata": {},
   "outputs": [
    {
     "name": "stdout",
     "output_type": "stream",
     "text": [
      "       Freshness                                             Review\n",
      "0              1   Manakamana doesn't answer any questions, yet ...\n",
      "1              1   Wilfully offensive and powered by a chest-thu...\n",
      "2              0   It would be difficult to imagine material mor...\n",
      "3              0   Despite the gusto its star brings to the role...\n",
      "4              0   If there was a good idea at the core of this ...\n",
      "...          ...                                                ...\n",
      "24995          1   \"Coco\" is full of life, especially when we're...\n",
      "24996          1   Decent action and some surprises result in an...\n",
      "24997          1   Vague on details regarding the company or the...\n",
      "24998          0   Somnambulistic from start to finish, it's a f...\n",
      "24999          0   with half of the Hughes Brothers, you end up ...\n",
      "\n",
      "[25000 rows x 2 columns]\n"
     ]
    }
   ],
   "source": [
    "# limited the data to nrows reviews for testing purposes\n",
    "df = pd.read_csv('./datasets/rotten_tomatoes_reviews.csv', nrows=25000)\n",
    "print(df)"
   ]
  },
  {
   "cell_type": "code",
   "execution_count": 3,
   "id": "surprised-class",
   "metadata": {},
   "outputs": [],
   "source": [
    "tomatoReviews = df['Review']\n",
    "tomatoLabels = df['Freshness']"
   ]
  },
  {
   "cell_type": "markdown",
   "id": "recorded-cooperation",
   "metadata": {},
   "source": [
    "## Video Game Review Datasets"
   ]
  },
  {
   "cell_type": "code",
   "execution_count": 4,
   "id": "australian-delight",
   "metadata": {},
   "outputs": [],
   "source": [
    "game_data = pd.read_csv('./datasets/metacritic_critic_reviews.csv', sep = \",\", encoding=\"utf-8\")\n",
    "game_data = game_data.drop(columns = ['name', 'game', 'platform', 'date'])\n",
    "game_data = game_data[['score', 'review']]\n",
    "game_data= game_data.rename(columns={\"score\": \"Sentiment\", \"review\": \"Review\"})\n",
    "for index in game_data.index:\n",
    "    if game_data.loc[index,'Sentiment'] >=89:\n",
    "        game_data.at[index,'Sentiment']= 1\n",
    "    elif game_data.loc[index,'Sentiment'] <=75:\n",
    "        game_data.at[index,'Sentiment']= 0\n",
    "game_data['Source'] = 'Video Games'\n",
    "game_data = game_data.drop(game_data[game_data.Sentiment > 1].index)\n",
    "game_data = game_data[:17000]"
   ]
  },
  {
   "cell_type": "markdown",
   "id": "smart-meeting",
   "metadata": {},
   "source": [
    "## Goodread book Reviews Datasets"
   ]
  },
  {
   "cell_type": "code",
   "execution_count": 5,
   "id": "sound-railway",
   "metadata": {},
   "outputs": [],
   "source": [
    "def preprocess_goodread(fileName):\n",
    "    scoreList = list()\n",
    "    textList = list()\n",
    "\n",
    "    # put individual categories into lists\n",
    "    with open(fileName, 'r', encoding='ISO-8859-1') as file:\n",
    "        for line in file:\n",
    "            if 'rating: ' in line and line.split(\":\")[0] == \"rating\":\n",
    "                scoreList.append(float(line.split(\":\")[1]))\n",
    "            if 'review_text: ' in line:\n",
    "                textList.append(line[12:]) #remove 'review/text' in front of all lines\"\n",
    "            else:\n",
    "                continue\n",
    "    return scoreList, textList"
   ]
  },
  {
   "cell_type": "code",
   "execution_count": 6,
   "id": "closed-fraction",
   "metadata": {},
   "outputs": [],
   "source": [
    "bookScoreList, bookTextList = preprocess_goodread(\"./datasets/Goodread_book_reviews.txt\")"
   ]
  },
  {
   "cell_type": "markdown",
   "id": "dedicated-terrorist",
   "metadata": {},
   "source": [
    "## Amazon Movies Reviews Datasets"
   ]
  },
  {
   "cell_type": "code",
   "execution_count": 7,
   "id": "junior-mobile",
   "metadata": {},
   "outputs": [],
   "source": [
    "def preprocess_amazon(fileName):\n",
    "    helpList = list()\n",
    "    scoreList = list()\n",
    "    textList = list()\n",
    "\n",
    "    # put individual categories into lists\n",
    "    with open(fileName, 'r', encoding='ISO-8859-1') as file:\n",
    "        for line in file:\n",
    "            if 'review/helpfulness:' in line:\n",
    "                try:\n",
    "                    helpList.append(eval(line.split()[1]))\n",
    "                except ZeroDivisionError:\n",
    "                    helpList.append(0)\n",
    "            if 'review/score:' in line:\n",
    "                scoreList.append(float(line.split()[1]))\n",
    "            if 'review/text:' in line:\n",
    "                textList.append(line[12:]) #remove 'review/text' in front of all lines\"\n",
    "            else:\n",
    "                continue\n",
    "\n",
    "    return helpList, scoreList, textList"
   ]
  },
  {
   "cell_type": "code",
   "execution_count": 8,
   "id": "south-hazard",
   "metadata": {},
   "outputs": [],
   "source": [
    "helpList, scoreList, textList = preprocess_amazon(\"./datasets/Amazon_movies.txt\")"
   ]
  },
  {
   "cell_type": "code",
   "execution_count": 9,
   "id": "knowing-andorra",
   "metadata": {},
   "outputs": [],
   "source": [
    "from nltk.corpus import stopwords\n",
    "#nltk.download('stopwords')\n",
    "nltkWords = set(stopwords.words('english'))"
   ]
  },
  {
   "cell_type": "code",
   "execution_count": 10,
   "id": "unknown-british",
   "metadata": {},
   "outputs": [],
   "source": [
    "\"\"\"\n",
    "Since the other datasets sentiments are in either psitive or negative, \n",
    "It would be better to classify Amazon/Goodreads reviews originally in 5 star ratings \n",
    "to boolean rating (0,1) where zero implies negative reviews and is mapped \n",
    "to 1 and 2 star rating, 1 implies positive reviews and is mapped to\n",
    "4 and 5 ratings and 3 is mapped neutral and is removed from the datasets\n",
    "\"\"\"\n",
    "\n",
    "def restructure_sentiment(textList, scoreList):\n",
    "    amaReviews = []\n",
    "    amaSentiment = []\n",
    "\n",
    "    for reviews, sentiment in zip(textList, scoreList):\n",
    "        if sentiment in (1.0, 2.0):\n",
    "            amaSentiment.append(0)\n",
    "            amaReviews.append(reviews)\n",
    "        elif sentiment in (4.0, 5.0):\n",
    "            amaSentiment.append(1)\n",
    "            amaReviews.append(reviews)\n",
    "        else:\n",
    "            continue\n",
    "    return amaReviews, amaSentiment"
   ]
  },
  {
   "cell_type": "code",
   "execution_count": 11,
   "id": "polished-professional",
   "metadata": {},
   "outputs": [],
   "source": [
    "amaReviews, amaSentiment = restructure_sentiment(textList, scoreList)"
   ]
  },
  {
   "cell_type": "code",
   "execution_count": 12,
   "id": "center-aluminum",
   "metadata": {},
   "outputs": [],
   "source": [
    "bookReviews, bookSentiment = restructure_sentiment(bookTextList, bookScoreList)"
   ]
  },
  {
   "cell_type": "code",
   "execution_count": 13,
   "id": "considered-density",
   "metadata": {},
   "outputs": [
    {
     "data": {
      "text/html": [
       "<div>\n",
       "<style scoped>\n",
       "    .dataframe tbody tr th:only-of-type {\n",
       "        vertical-align: middle;\n",
       "    }\n",
       "\n",
       "    .dataframe tbody tr th {\n",
       "        vertical-align: top;\n",
       "    }\n",
       "\n",
       "    .dataframe thead th {\n",
       "        text-align: right;\n",
       "    }\n",
       "</style>\n",
       "<table border=\"1\" class=\"dataframe\">\n",
       "  <thead>\n",
       "    <tr style=\"text-align: right;\">\n",
       "      <th></th>\n",
       "      <th>Sentiment</th>\n",
       "      <th>Review</th>\n",
       "      <th>Source</th>\n",
       "    </tr>\n",
       "  </thead>\n",
       "  <tbody>\n",
       "    <tr>\n",
       "      <th>0</th>\n",
       "      <td>1</td>\n",
       "      <td>Manakamana doesn't answer any questions, yet ...</td>\n",
       "      <td>Rotten Tomatoes</td>\n",
       "    </tr>\n",
       "    <tr>\n",
       "      <th>1</th>\n",
       "      <td>1</td>\n",
       "      <td>Wilfully offensive and powered by a chest-thu...</td>\n",
       "      <td>Rotten Tomatoes</td>\n",
       "    </tr>\n",
       "    <tr>\n",
       "      <th>2</th>\n",
       "      <td>0</td>\n",
       "      <td>It would be difficult to imagine material mor...</td>\n",
       "      <td>Rotten Tomatoes</td>\n",
       "    </tr>\n",
       "    <tr>\n",
       "      <th>3</th>\n",
       "      <td>0</td>\n",
       "      <td>Despite the gusto its star brings to the role...</td>\n",
       "      <td>Rotten Tomatoes</td>\n",
       "    </tr>\n",
       "    <tr>\n",
       "      <th>4</th>\n",
       "      <td>0</td>\n",
       "      <td>If there was a good idea at the core of this ...</td>\n",
       "      <td>Rotten Tomatoes</td>\n",
       "    </tr>\n",
       "    <tr>\n",
       "      <th>5</th>\n",
       "      <td>0</td>\n",
       "      <td>Gleeson goes the Hallmark Channel route, dama...</td>\n",
       "      <td>Rotten Tomatoes</td>\n",
       "    </tr>\n",
       "    <tr>\n",
       "      <th>6</th>\n",
       "      <td>1</td>\n",
       "      <td>It was the height of satire in 1976: dark as ...</td>\n",
       "      <td>Rotten Tomatoes</td>\n",
       "    </tr>\n",
       "    <tr>\n",
       "      <th>7</th>\n",
       "      <td>0</td>\n",
       "      <td>Everyone in \"The Comedian\" deserves a better ...</td>\n",
       "      <td>Rotten Tomatoes</td>\n",
       "    </tr>\n",
       "    <tr>\n",
       "      <th>8</th>\n",
       "      <td>0</td>\n",
       "      <td>Actor encourages grumpy Christians to embrace...</td>\n",
       "      <td>Rotten Tomatoes</td>\n",
       "    </tr>\n",
       "    <tr>\n",
       "      <th>9</th>\n",
       "      <td>1</td>\n",
       "      <td>Slight, contained, but ineffably soulful.</td>\n",
       "      <td>Rotten Tomatoes</td>\n",
       "    </tr>\n",
       "  </tbody>\n",
       "</table>\n",
       "</div>"
      ],
      "text/plain": [
       "   Sentiment                                             Review  \\\n",
       "0          1   Manakamana doesn't answer any questions, yet ...   \n",
       "1          1   Wilfully offensive and powered by a chest-thu...   \n",
       "2          0   It would be difficult to imagine material mor...   \n",
       "3          0   Despite the gusto its star brings to the role...   \n",
       "4          0   If there was a good idea at the core of this ...   \n",
       "5          0   Gleeson goes the Hallmark Channel route, dama...   \n",
       "6          1   It was the height of satire in 1976: dark as ...   \n",
       "7          0   Everyone in \"The Comedian\" deserves a better ...   \n",
       "8          0   Actor encourages grumpy Christians to embrace...   \n",
       "9          1          Slight, contained, but ineffably soulful.   \n",
       "\n",
       "            Source  \n",
       "0  Rotten Tomatoes  \n",
       "1  Rotten Tomatoes  \n",
       "2  Rotten Tomatoes  \n",
       "3  Rotten Tomatoes  \n",
       "4  Rotten Tomatoes  \n",
       "5  Rotten Tomatoes  \n",
       "6  Rotten Tomatoes  \n",
       "7  Rotten Tomatoes  \n",
       "8  Rotten Tomatoes  \n",
       "9  Rotten Tomatoes  "
      ]
     },
     "execution_count": 13,
     "metadata": {},
     "output_type": "execute_result"
    }
   ],
   "source": [
    "# Data Visualization\n",
    "data = pd.DataFrame(tomatoLabels.values, columns=['Sentiment'])\n",
    "data['Review'] = tomatoReviews\n",
    "data['Source'] = 'Rotten Tomatoes'\n",
    "\n",
    "data.head(10)"
   ]
  },
  {
   "cell_type": "code",
   "execution_count": 14,
   "id": "objective-label",
   "metadata": {},
   "outputs": [
    {
     "data": {
      "text/html": [
       "<div>\n",
       "<style scoped>\n",
       "    .dataframe tbody tr th:only-of-type {\n",
       "        vertical-align: middle;\n",
       "    }\n",
       "\n",
       "    .dataframe tbody tr th {\n",
       "        vertical-align: top;\n",
       "    }\n",
       "\n",
       "    .dataframe thead th {\n",
       "        text-align: right;\n",
       "    }\n",
       "</style>\n",
       "<table border=\"1\" class=\"dataframe\">\n",
       "  <thead>\n",
       "    <tr style=\"text-align: right;\">\n",
       "      <th></th>\n",
       "      <th>Sentiment</th>\n",
       "      <th>Review</th>\n",
       "      <th>Source</th>\n",
       "    </tr>\n",
       "  </thead>\n",
       "  <tbody>\n",
       "    <tr>\n",
       "      <th>47484</th>\n",
       "      <td>1</td>\n",
       "      <td>For those of you not in the business, Triumph...</td>\n",
       "      <td>Amazon Movie</td>\n",
       "    </tr>\n",
       "    <tr>\n",
       "      <th>47485</th>\n",
       "      <td>1</td>\n",
       "      <td>If you like time travel movies, an interestin...</td>\n",
       "      <td>Amazon Movie</td>\n",
       "    </tr>\n",
       "    <tr>\n",
       "      <th>47486</th>\n",
       "      <td>1</td>\n",
       "      <td>I suppose if one could go back in time, this ...</td>\n",
       "      <td>Amazon Movie</td>\n",
       "    </tr>\n",
       "    <tr>\n",
       "      <th>47487</th>\n",
       "      <td>1</td>\n",
       "      <td>The Final Countdown makes for nearly 2 hours ...</td>\n",
       "      <td>Amazon Movie</td>\n",
       "    </tr>\n",
       "    <tr>\n",
       "      <th>47488</th>\n",
       "      <td>1</td>\n",
       "      <td>I'll echo the other reviews regarding the Blu...</td>\n",
       "      <td>Amazon Movie</td>\n",
       "    </tr>\n",
       "    <tr>\n",
       "      <th>47489</th>\n",
       "      <td>1</td>\n",
       "      <td>If you've got a good home theatre system you'...</td>\n",
       "      <td>Amazon Movie</td>\n",
       "    </tr>\n",
       "    <tr>\n",
       "      <th>47490</th>\n",
       "      <td>1</td>\n",
       "      <td>I received this verrrrry fast...the movie is ...</td>\n",
       "      <td>Amazon Movie</td>\n",
       "    </tr>\n",
       "    <tr>\n",
       "      <th>47491</th>\n",
       "      <td>0</td>\n",
       "      <td>...shame on you. Fool me twice, shame on me. ...</td>\n",
       "      <td>Amazon Movie</td>\n",
       "    </tr>\n",
       "    <tr>\n",
       "      <th>47492</th>\n",
       "      <td>1</td>\n",
       "      <td>The seller promised a great movie and it inde...</td>\n",
       "      <td>Amazon Movie</td>\n",
       "    </tr>\n",
       "    <tr>\n",
       "      <th>47493</th>\n",
       "      <td>0</td>\n",
       "      <td>I really hope the copy I received was an exce...</td>\n",
       "      <td>Amazon Movie</td>\n",
       "    </tr>\n",
       "  </tbody>\n",
       "</table>\n",
       "</div>"
      ],
      "text/plain": [
       "       Sentiment                                             Review  \\\n",
       "47484          1   For those of you not in the business, Triumph...   \n",
       "47485          1   If you like time travel movies, an interestin...   \n",
       "47486          1   I suppose if one could go back in time, this ...   \n",
       "47487          1   The Final Countdown makes for nearly 2 hours ...   \n",
       "47488          1   I'll echo the other reviews regarding the Blu...   \n",
       "47489          1   If you've got a good home theatre system you'...   \n",
       "47490          1   I received this verrrrry fast...the movie is ...   \n",
       "47491          0   ...shame on you. Fool me twice, shame on me. ...   \n",
       "47492          1   The seller promised a great movie and it inde...   \n",
       "47493          0   I really hope the copy I received was an exce...   \n",
       "\n",
       "             Source  \n",
       "47484  Amazon Movie  \n",
       "47485  Amazon Movie  \n",
       "47486  Amazon Movie  \n",
       "47487  Amazon Movie  \n",
       "47488  Amazon Movie  \n",
       "47489  Amazon Movie  \n",
       "47490  Amazon Movie  \n",
       "47491  Amazon Movie  \n",
       "47492  Amazon Movie  \n",
       "47493  Amazon Movie  "
      ]
     },
     "execution_count": 14,
     "metadata": {},
     "output_type": "execute_result"
    }
   ],
   "source": [
    "# Add Amazon sentiments, Reviews and source\n",
    "amaData = pd.DataFrame(amaSentiment, columns=['Sentiment'])\n",
    "amaData['Review'] = amaReviews\n",
    "amaData['Source'] = 'Amazon Movie'\n",
    "\n",
    "data = data.append(amaData, ignore_index=True)\n",
    "data.tail(10)"
   ]
  },
  {
   "cell_type": "code",
   "execution_count": 15,
   "id": "designing-settle",
   "metadata": {},
   "outputs": [
    {
     "data": {
      "text/html": [
       "<div>\n",
       "<style scoped>\n",
       "    .dataframe tbody tr th:only-of-type {\n",
       "        vertical-align: middle;\n",
       "    }\n",
       "\n",
       "    .dataframe tbody tr th {\n",
       "        vertical-align: top;\n",
       "    }\n",
       "\n",
       "    .dataframe thead th {\n",
       "        text-align: right;\n",
       "    }\n",
       "</style>\n",
       "<table border=\"1\" class=\"dataframe\">\n",
       "  <thead>\n",
       "    <tr style=\"text-align: right;\">\n",
       "      <th></th>\n",
       "      <th>Sentiment</th>\n",
       "      <th>Review</th>\n",
       "      <th>Source</th>\n",
       "    </tr>\n",
       "  </thead>\n",
       "  <tbody>\n",
       "    <tr>\n",
       "      <th>66354</th>\n",
       "      <td>1</td>\n",
       "      <td>Author Cliff Ball draws on his considerable k...</td>\n",
       "      <td>Goodread books</td>\n",
       "    </tr>\n",
       "    <tr>\n",
       "      <th>66355</th>\n",
       "      <td>1</td>\n",
       "      <td>I got the set one Christmas when I was 7 or 8...</td>\n",
       "      <td>Goodread books</td>\n",
       "    </tr>\n",
       "    <tr>\n",
       "      <th>66356</th>\n",
       "      <td>1</td>\n",
       "      <td>I loved the audiobook, Read by the author. He...</td>\n",
       "      <td>Goodread books</td>\n",
       "    </tr>\n",
       "    <tr>\n",
       "      <th>66357</th>\n",
       "      <td>0</td>\n",
       "      <td>I read this because I've read the earlier boo...</td>\n",
       "      <td>Goodread books</td>\n",
       "    </tr>\n",
       "    <tr>\n",
       "      <th>66358</th>\n",
       "      <td>0</td>\n",
       "      <td>Not one of Grisham's best, the book is taking...</td>\n",
       "      <td>Goodread books</td>\n",
       "    </tr>\n",
       "    <tr>\n",
       "      <th>66359</th>\n",
       "      <td>0</td>\n",
       "      <td>Save time and watch it on stage, where they l...</td>\n",
       "      <td>Goodread books</td>\n",
       "    </tr>\n",
       "    <tr>\n",
       "      <th>66360</th>\n",
       "      <td>1</td>\n",
       "      <td>I am addicted to these old guys! Love them\\n</td>\n",
       "      <td>Goodread books</td>\n",
       "    </tr>\n",
       "    <tr>\n",
       "      <th>66361</th>\n",
       "      <td>1</td>\n",
       "      <td>Hilarious, a fast bubble gum read!\\n</td>\n",
       "      <td>Goodread books</td>\n",
       "    </tr>\n",
       "    <tr>\n",
       "      <th>66362</th>\n",
       "      <td>1</td>\n",
       "      <td>By Michelle Moran\\n</td>\n",
       "      <td>Goodread books</td>\n",
       "    </tr>\n",
       "    <tr>\n",
       "      <th>66363</th>\n",
       "      <td>1</td>\n",
       "      <td>Hard to follow, but my goal is to understand ...</td>\n",
       "      <td>Goodread books</td>\n",
       "    </tr>\n",
       "  </tbody>\n",
       "</table>\n",
       "</div>"
      ],
      "text/plain": [
       "       Sentiment                                             Review  \\\n",
       "66354          1   Author Cliff Ball draws on his considerable k...   \n",
       "66355          1   I got the set one Christmas when I was 7 or 8...   \n",
       "66356          1   I loved the audiobook, Read by the author. He...   \n",
       "66357          0   I read this because I've read the earlier boo...   \n",
       "66358          0   Not one of Grisham's best, the book is taking...   \n",
       "66359          0   Save time and watch it on stage, where they l...   \n",
       "66360          1       I am addicted to these old guys! Love them\\n   \n",
       "66361          1               Hilarious, a fast bubble gum read!\\n   \n",
       "66362          1                                By Michelle Moran\\n   \n",
       "66363          1   Hard to follow, but my goal is to understand ...   \n",
       "\n",
       "               Source  \n",
       "66354  Goodread books  \n",
       "66355  Goodread books  \n",
       "66356  Goodread books  \n",
       "66357  Goodread books  \n",
       "66358  Goodread books  \n",
       "66359  Goodread books  \n",
       "66360  Goodread books  \n",
       "66361  Goodread books  \n",
       "66362  Goodread books  \n",
       "66363  Goodread books  "
      ]
     },
     "execution_count": 15,
     "metadata": {},
     "output_type": "execute_result"
    }
   ],
   "source": [
    "# Add Goodread sentiments, Reviews and source\n",
    "bookData = pd.DataFrame(bookSentiment, columns=['Sentiment'])\n",
    "bookData['Review'] = bookReviews\n",
    "bookData['Source'] = 'Goodread books'\n",
    "\n",
    "data = data.append(bookData, ignore_index=True)\n",
    "data.tail(10)"
   ]
  },
  {
   "cell_type": "code",
   "execution_count": 16,
   "id": "perceived-moderator",
   "metadata": {},
   "outputs": [],
   "source": [
    "# Add VideoGame Data\n",
    "\n",
    "data = data.append(game_data, ignore_index = True)"
   ]
  },
  {
   "cell_type": "code",
   "execution_count": 17,
   "id": "relative-feeling",
   "metadata": {},
   "outputs": [],
   "source": [
    "plot_size = plt.rcParams[\"figure.figsize\"] \n",
    "plot_size[0] = 8\n",
    "plot_size[1] = 6\n",
    "plt.rcParams[\"figure.figsize\"] = plot_size "
   ]
  },
  {
   "cell_type": "code",
   "execution_count": 18,
   "id": "technical-florida",
   "metadata": {},
   "outputs": [
    {
     "data": {
      "text/plain": [
       "Rotten Tomatoes    25000\n",
       "Amazon Movie       22494\n",
       "Goodread books     18870\n",
       "Video Games        17000\n",
       "Name: Source, dtype: int64"
      ]
     },
     "execution_count": 18,
     "metadata": {},
     "output_type": "execute_result"
    }
   ],
   "source": [
    "data.Source.value_counts()"
   ]
  },
  {
   "cell_type": "code",
   "execution_count": 19,
   "id": "fleet-wheat",
   "metadata": {},
   "outputs": [
    {
     "data": {
      "image/png": "[encoded data removed]",
      "text/plain": [
       "<Figure size 576x432 with 1 Axes>"
      ]
     },
     "metadata": {},
     "output_type": "display_data"
    }
   ],
   "source": [
    "data.Source.value_counts().plot(kind='pie', autopct='%2.0f%%')\n",
    "plt.show()"
   ]
  },
  {
   "cell_type": "code",
   "execution_count": 20,
   "id": "preliminary-cache",
   "metadata": {},
   "outputs": [
    {
     "data": {
      "image/png": "[encoded data removed]",
      "text/plain": [
       "<Figure size 576x432 with 1 Axes>"
      ]
     },
     "metadata": {},
     "output_type": "display_data"
    }
   ],
   "source": [
    "data.Sentiment.value_counts().plot(kind='pie', autopct='%2.0f%%', colors=[\"red\", \"blue\"])\n",
    "plt.show()"
   ]
  },
  {
   "cell_type": "code",
   "execution_count": 21,
   "id": "moving-chance",
   "metadata": {},
   "outputs": [
    {
     "data": {
      "image/png": "[encoded data removed]",
      "text/plain": [
       "<Figure size 576x432 with 1 Axes>"
      ]
     },
     "metadata": {
      "needs_background": "light"
     },
     "output_type": "display_data"
    }
   ],
   "source": [
    "data_sentiment = data.groupby(['Source', 'Sentiment']).Sentiment.count().unstack()\n",
    "data_sentiment.plot(kind='bar')\n",
    "plt.show()"
   ]
  },
  {
   "cell_type": "code",
   "execution_count": 22,
   "id": "vertical-prior",
   "metadata": {},
   "outputs": [],
   "source": [
    "import sklearn.feature_extraction.text as text\n",
    "def clean_data(textList):\n",
    "    # the helpList and scoreList are already converted to lists, need to\n",
    "    # preprocess the text into some thing that is inputtable to a model\n",
    "\n",
    "    # Preprocess with Term Frequency-Inverse Document Frequency as opposed\n",
    "    # to a BoW model (or some other text processing method)\n",
    "    vectorizer = text.TfidfVectorizer(encoding='ISO-8859-1', min_df=7, \n",
    "                                      max_df=0.8, stop_words=nltkWords)\n",
    "    \n",
    "    # preprocessedText = vectorizer.fit_transform(textList).toarray()\n",
    "    preprocessedText = vectorizer.fit_transform(textList)\n",
    "    return preprocessedText"
   ]
  },
  {
   "cell_type": "code",
   "execution_count": 23,
   "id": "burning-register",
   "metadata": {},
   "outputs": [],
   "source": [
    "processedText = clean_data(data['Review'])\n",
    "processedSentiments = data['Sentiment']"
   ]
  },
  {
   "cell_type": "code",
   "execution_count": 26,
   "id": "julian-possession",
   "metadata": {},
   "outputs": [],
   "source": [
    "from sklearn.model_selection import train_test_split\n",
    "\n",
    "X_train, X_test, y_train, y_test = train_test_split(processedText, \n",
    "                                                    processedSentiments, \n",
    "                                                    test_size=0.2, \n",
    "                                                    random_state=0)"
   ]
  },
  {
   "cell_type": "code",
   "execution_count": 27,
   "id": "external-restoration",
   "metadata": {},
   "outputs": [
    {
     "name": "stdout",
     "output_type": "stream",
     "text": [
      " Synopsis: On the daily trek from Juarez, Mexico to El Paso, Texas an ever increasing number of female workers are found raped and murdered in the surrounding desert. Investigative reporter Karina Danes (Minnie Driver) arrives from Los Angeles to pursue the story and angers both the local police and the factory owners who employee the undocumented aliens with her pointed questions and relentless quest for the truth.<br /><br />Her story goes nationwide when a young girl named Mariela (Ana Claudia Talancon) survives a vicious attack and walks out of the desert crediting the Blessed Virgin for her rescue. Her story is further enhanced when the \"Wounds of Christ\" (stigmata) appear in her palms. She also claims to have received a message of hope for the Virgin Mary and soon a fanatical movement forms around her to fight against the evil that holds such a stranglehold on the area.<br /><br />Critique: Possessing a lifelong fascination with such esoteric matters as Catholic mysticism, miracles and the mysterious appearance of the stigmata, I was immediately attracted to the '05 DVD release `Virgin of Juarez'. The film offers a rather unique storyline blending current socio-political concerns, the constant flow of Mexican migrant workers back and forth across the U.S./Mexican border and the traditional Catholic beliefs of the Hispanic population. I must say I was quite surprised by the unexpected route taken by the plot and the means and methods by which the heavenly message unfolds.<br /><br />`Virgin of Juarez' is not a film that you would care to watch over and over again, but it was interesting enough to merit at least one viewing. Minnie Driver delivers a solid performance and Ana Claudia Talancon is perfect as the fragile and innocent visionary Mariela. Also starring Esai Morales and Angus Macfadyen (Braveheart).\n",
      "\n",
      "  (0, 9781)\t0.40467941128143425\n",
      "  (0, 1601)\t0.24627290461353207\n",
      "  (0, 1723)\t0.37663806638681685\n",
      "  (0, 7311)\t0.24265051316418865\n",
      "  (0, 2030)\t0.2305874006441308\n",
      "  (0, 11813)\t0.19741546968270574\n",
      "  (0, 9980)\t0.26745880094509855\n",
      "  (0, 13564)\t0.23749067893073403\n",
      "  (0, 22016)\t0.24192074535334188\n",
      "  (0, 7497)\t0.26086949725853303\n",
      "  (0, 9353)\t0.2783814969628453\n",
      "  (0, 15552)\t0.2871188441197029\n",
      "  (0, 7615)\t0.16014804092970236\n",
      "  (0, 8998)\t0.2064215371856426\n",
      "  (1, 4254)\t0.44931972869949616\n",
      "  (1, 11794)\t0.25317713189051905\n",
      "  (1, 8288)\t0.29869571137479556\n",
      "  (1, 14700)\t0.30795113042467354\n",
      "  (1, 6716)\t0.2892728772961844\n",
      "  (1, 17265)\t0.25170867573802846\n",
      "  (1, 21850)\t0.28031483800079166\n",
      "  (1, 9831)\t0.5695152598316899\n",
      "  (2, 8510)\t0.3881337387589659\n",
      "  (2, 2624)\t0.37001154568768263\n",
      "  (2, 3256)\t0.24390849528318867\n",
      "  :\t:\n",
      "  (66689, 1350)\t0.07107793038739892\n",
      "  (66689, 22055)\t0.0370855780050203\n",
      "  (66689, 11643)\t0.032541806191766734\n",
      "  (66689, 20637)\t0.04466884936650019\n",
      "  (66689, 13734)\t0.0506049921450394\n",
      "  (66689, 10698)\t0.04309222567199565\n",
      "  (66689, 19983)\t0.03780848507516712\n",
      "  (66689, 13052)\t0.029341513704913173\n",
      "  (66689, 975)\t0.044331195002872394\n",
      "  (66689, 10300)\t0.03767565106089812\n",
      "  (66689, 11378)\t0.05080841207990017\n",
      "  (66689, 2102)\t0.030938871828243068\n",
      "  (66689, 18432)\t0.04738282917910799\n",
      "  (66689, 20118)\t0.02801692493999888\n",
      "  (66689, 8515)\t0.026634220897616415\n",
      "  (66690, 15442)\t0.446214342479219\n",
      "  (66690, 15698)\t0.37406896622038244\n",
      "  (66690, 13595)\t0.33348367949616076\n",
      "  (66690, 20895)\t0.30657540359948315\n",
      "  (66690, 20032)\t0.27790512318006405\n",
      "  (66690, 20160)\t0.27998862291876414\n",
      "  (66690, 12378)\t0.3161204786531869\n",
      "  (66690, 7431)\t0.283650142190059\n",
      "  (66690, 2012)\t0.3030025915428066\n",
      "  (66690, 11549)\t0.16715355027781614\n"
     ]
    }
   ],
   "source": [
    "print(textList[0])\n",
    "print(X_train)"
   ]
  },
  {
   "cell_type": "markdown",
   "id": "fixed-cutting",
   "metadata": {},
   "source": [
    "### Random Forest Classification"
   ]
  },
  {
   "cell_type": "code",
   "execution_count": 28,
   "id": "immediate-parade",
   "metadata": {},
   "outputs": [
    {
     "data": {
      "text/plain": [
       "RandomForestClassifier(n_estimators=200, random_state=0)"
      ]
     },
     "execution_count": 28,
     "metadata": {},
     "output_type": "execute_result"
    }
   ],
   "source": [
    "from sklearn.ensemble import RandomForestClassifier\n",
    "\n",
    "text_classifier = RandomForestClassifier(n_estimators=200, random_state=0)\n",
    "text_classifier.fit(X_train, y_train)"
   ]
  },
  {
   "cell_type": "code",
   "execution_count": 29,
   "id": "powered-packaging",
   "metadata": {},
   "outputs": [],
   "source": [
    "predictions = text_classifier.predict(X_test)"
   ]
  },
  {
   "cell_type": "code",
   "execution_count": 30,
   "id": "sensitive-wrapping",
   "metadata": {},
   "outputs": [
    {
     "name": "stdout",
     "output_type": "stream",
     "text": [
      "[[3998 2080]\n",
      " [1129 9466]]\n",
      "              precision    recall  f1-score   support\n",
      "\n",
      "         0.0       0.78      0.66      0.71      6078\n",
      "         1.0       0.82      0.89      0.86     10595\n",
      "\n",
      "    accuracy                           0.81     16673\n",
      "   macro avg       0.80      0.78      0.78     16673\n",
      "weighted avg       0.81      0.81      0.80     16673\n",
      "\n",
      "0.8075331374077851\n"
     ]
    }
   ],
   "source": [
    "from sklearn.metrics import classification_report, confusion_matrix, accuracy_score\n",
    "\n",
    "print(confusion_matrix(y_test,predictions))\n",
    "print(classification_report(y_test,predictions))\n",
    "print(accuracy_score(y_test, predictions))"
   ]
  },
  {
   "cell_type": "markdown",
   "id": "median-construction",
   "metadata": {},
   "source": [
    "### Naive Bayes Model for review classification (MultinomialNB)"
   ]
  },
  {
   "cell_type": "code",
   "execution_count": 31,
   "id": "exclusive-taiwan",
   "metadata": {},
   "outputs": [],
   "source": [
    "from sklearn.naive_bayes import MultinomialNB"
   ]
  },
  {
   "cell_type": "code",
   "execution_count": 32,
   "id": "raised-cooperation",
   "metadata": {},
   "outputs": [
    {
     "name": "stdout",
     "output_type": "stream",
     "text": [
      "0.803634618844839\n",
      "[1.]\n"
     ]
    }
   ],
   "source": [
    "nbModel = MultinomialNB(alpha=1.0, \n",
    "                        fit_prior=True, \n",
    "                        class_prior=None)\n",
    "\n",
    "nbModel.fit(X_train, y_train)\n",
    "\n",
    "print(nbModel.score(X_test, y_test))\n",
    "print(nbModel.predict(X_test[0]))"
   ]
  },
  {
   "cell_type": "markdown",
   "id": "fatty-malta",
   "metadata": {},
   "source": [
    "### Support Vector Machines for review classification (LinearSVC)"
   ]
  },
  {
   "cell_type": "code",
   "execution_count": 33,
   "id": "selected-commission",
   "metadata": {},
   "outputs": [],
   "source": [
    "from sklearn.svm import LinearSVC"
   ]
  },
  {
   "cell_type": "code",
   "execution_count": 34,
   "id": "figured-breath",
   "metadata": {},
   "outputs": [
    {
     "name": "stdout",
     "output_type": "stream",
     "text": [
      "0.8311041804114436\n"
     ]
    }
   ],
   "source": [
    "svcModel = LinearSVC(penalty='l2', \n",
    "                     loss='squared_hinge', \n",
    "                     dual=True, \n",
    "                     C=1.0)\n",
    "\n",
    "svcModel.fit(X_train, y_train)\n",
    "\n",
    "print(svcModel.score(X_test, y_test))"
   ]
  },
  {
   "cell_type": "markdown",
   "id": "buried-project",
   "metadata": {},
   "source": [
    "### Neural Networks for review classification (MLPerceptron/MLPClassifier)"
   ]
  },
  {
   "cell_type": "code",
   "execution_count": 35,
   "id": "ranking-postage",
   "metadata": {},
   "outputs": [],
   "source": [
    "from sklearn.neural_network import MLPClassifier"
   ]
  },
  {
   "cell_type": "code",
   "execution_count": 36,
   "id": "ongoing-porter",
   "metadata": {},
   "outputs": [
    {
     "name": "stdout",
     "output_type": "stream",
     "text": [
      "0.8222275535296587\n"
     ]
    }
   ],
   "source": [
    "mlpModel = MLPClassifier(hidden_layer_sizes=(100, ), \n",
    "                         solver='adam', \n",
    "                         activation='relu', \n",
    "                         alpha=1e-4, \n",
    "                         batch_size='auto', \n",
    "                         learning_rate_init=1e-3)\n",
    "\n",
    "mlpModel.fit(X_train, y_train)\n",
    "\n",
    "print(mlpModel.score(X_test, y_test))"
   ]
  },
  {
   "cell_type": "code",
   "execution_count": null,
   "id": "interior-confidence",
   "metadata": {},
   "outputs": [],
   "source": []
  }
 ],
 "metadata": {
  "kernelspec": {
   "display_name": "Python 3",
   "language": "python",
   "name": "python3"
  },
  "language_info": {
   "codemirror_mode": {
    "name": "ipython",
    "version": 3
   },
   "file_extension": ".py",
   "mimetype": "text/x-python",
   "name": "python",
   "nbconvert_exporter": "python",
   "pygments_lexer": "ipython3",
   "version": "3.7.10"
  }
 },
 "nbformat": 4,
 "nbformat_minor": 5
}
